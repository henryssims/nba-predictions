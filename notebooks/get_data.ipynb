{
 "cells": [
  {
   "cell_type": "code",
   "execution_count": 3,
   "id": "b9b74f07-08b4-4c0b-8cde-83c90293af10",
   "metadata": {
    "tags": []
   },
   "outputs": [],
   "source": [
    "import os\n",
    "from bs4 import BeautifulSoup\n",
    "from playwright.async_api import async_playwright, TimeoutError as PlaywrightTimeout\n",
    "import time"
   ]
  },
  {
   "cell_type": "code",
   "execution_count": 4,
   "id": "4b5147ee-fd72-4c88-a93f-92d9de46077f",
   "metadata": {
    "tags": []
   },
   "outputs": [],
   "source": [
    "SEASONS = list(range(2021, 2025))"
   ]
  },
  {
   "cell_type": "code",
   "execution_count": 5,
   "id": "c56033c9-2a46-493c-b7e3-694df70d5729",
   "metadata": {
    "tags": []
   },
   "outputs": [],
   "source": [
    "DATA_DIR = 'data'\n",
    "STANDINGS_DIR = os.path.join(DATA_DIR, 'standings')\n",
    "SCORES_DIR = os.path.join(DATA_DIR, 'scores')"
   ]
  },
  {
   "cell_type": "code",
   "execution_count": 6,
   "id": "c2722c53-7bfd-485d-ae22-6e6cf55b4c51",
   "metadata": {
    "tags": []
   },
   "outputs": [],
   "source": [
    "async def get_html(url, selector, sleep=1, retries=3):\n",
    "    html = None\n",
    "    for i in range(1, retries + 1):\n",
    "        time.sleep(sleep * i)\n",
    "        \n",
    "        try:\n",
    "            async with async_playwright() as p:\n",
    "                browser = await p.chromium.launch()\n",
    "                page = await browser.new_page()\n",
    "                await page.goto(url)\n",
    "                print(await page.title())\n",
    "                html = await page.inner_html(selector)\n",
    "        except PlaywrightTimeout:\n",
    "            print(f'Timeout error on {url}')\n",
    "            continue\n",
    "        else:\n",
    "            break\n",
    "    return html"
   ]
  },
  {
   "cell_type": "code",
   "execution_count": 7,
   "id": "d86819d6-f75a-4719-b733-66538dc9f446",
   "metadata": {
    "tags": []
   },
   "outputs": [],
   "source": [
    "async def scrape_season(season):\n",
    "    url = f'https://www.basketball-reference.com/leagues/NBA_{season}_games.html'\n",
    "    html = await get_html(url, '#content .filter')\n",
    "    \n",
    "    soup = BeautifulSoup(html)\n",
    "    links = soup.find_all('a')\n",
    "    href = [l['href'] for l in links]\n",
    "    standings_pages = [f'https://basketball-reference.com{l}' for l in href]\n",
    "    \n",
    "    for url in standings_pages:\n",
    "        save_path = os.path.join(STANDINGS_DIR, url.split('/')[-1])\n",
    "        if os.path.exists(save_path):\n",
    "            continue\n",
    "        \n",
    "        html = await get_html(url, '#all_schedule')\n",
    "        with open(save_path, 'w+') as f:\n",
    "            f.write(html)"
   ]
  },
  {
   "cell_type": "code",
   "execution_count": null,
   "id": "bb55990d-5291-4513-b165-1c085f27f5d5",
   "metadata": {
    "tags": []
   },
   "outputs": [],
   "source": [
    "for season in SEASONS:\n",
    "    await scrape_season(season)"
   ]
  },
  {
   "cell_type": "code",
   "execution_count": 8,
   "id": "65307f37-406a-400c-80b4-c703de6d772d",
   "metadata": {
    "tags": []
   },
   "outputs": [],
   "source": [
    "standings_files = os.listdir(STANDINGS_DIR)"
   ]
  },
  {
   "cell_type": "code",
   "execution_count": 9,
   "id": "e592d587-445c-4db8-a8be-49fd7ae377cc",
   "metadata": {
    "tags": []
   },
   "outputs": [],
   "source": [
    "async def scrape_game(standings_file):\n",
    "    with open(standings_file, 'r') as f:\n",
    "        html = f.read()\n",
    "\n",
    "    soup = BeautifulSoup(html)\n",
    "    links = soup.find_all('a')\n",
    "    hrefs = [l.get('href') for l in links]\n",
    "    box_scores = [l for l in hrefs if l and 'boxscore' in l and '.html' in l]\n",
    "    box_scores = [f'https://www.basketball-reference.com{l}' for l in box_scores]\n",
    "\n",
    "    for url in box_scores:\n",
    "        save_path = os.path.join(SCORES_DIR, url.split('/')[-1])\n",
    "        if os.path.exists(save_path):\n",
    "            continue\n",
    "        html = await get_html(url, '#content')\n",
    "        if not html:\n",
    "            continue\n",
    "        with open(save_path, 'w+') as f:\n",
    "            f.write(html)\n",
    "        "
   ]
  },
  {
   "cell_type": "code",
   "execution_count": 10,
   "id": "8ca8e055-d6a5-41cd-aaeb-5812f6af9193",
   "metadata": {
    "tags": []
   },
   "outputs": [],
   "source": [
    "standings_files = [s for s in standings_files if '.html' in s]"
   ]
  },
  {
   "cell_type": "code",
   "execution_count": 11,
   "id": "4182f07e-4e1b-402b-8560-046fd4ea05fb",
   "metadata": {
    "tags": []
   },
   "outputs": [
    {
     "data": {
      "text/plain": [
       "['NBA_2022_games-october.html',\n",
       " 'NBA_2021_games-june.html',\n",
       " 'NBA_2023_games-may.html',\n",
       " 'NBA_2023_games-april.html',\n",
       " 'NBA_2022_games-may.html',\n",
       " 'NBA_2023_games-january.html',\n",
       " 'NBA_2024_games-march.html',\n",
       " 'NBA_2021_games-march.html',\n",
       " 'NBA_2024_games-november.html',\n",
       " 'NBA_2024_games-december.html',\n",
       " 'NBA_2021_games-may.html',\n",
       " 'NBA_2021_games-december.html',\n",
       " 'NBA_2022_games-april.html',\n",
       " 'NBA_2022_games-december.html',\n",
       " 'NBA_2023_games-november.html',\n",
       " 'NBA_2024_games-october.html',\n",
       " 'NBA_2023_games-december.html',\n",
       " 'NBA_2022_games-november.html',\n",
       " 'NBA_2021_games-february.html',\n",
       " 'NBA_2022_games-march.html',\n",
       " 'NBA_2023_games-february.html',\n",
       " 'NBA_2022_games-february.html',\n",
       " 'NBA_2024_games-february.html',\n",
       " 'NBA_2021_games-july.html',\n",
       " 'NBA_2022_games-june.html',\n",
       " 'NBA_2024_games-january.html',\n",
       " 'NBA_2021_games-april.html',\n",
       " 'NBA_2022_games-january.html',\n",
       " 'NBA_2024_games-april.html',\n",
       " 'NBA_2023_games-june.html',\n",
       " 'NBA_2023_games-march.html',\n",
       " 'NBA_2023_games-october.html',\n",
       " 'NBA_2021_games-january.html']"
      ]
     },
     "execution_count": 11,
     "metadata": {},
     "output_type": "execute_result"
    }
   ],
   "source": [
    "standings_files"
   ]
  },
  {
   "cell_type": "code",
   "execution_count": 16,
   "id": "8489efce-0cae-42ca-a8ed-4f241322177f",
   "metadata": {
    "tags": []
   },
   "outputs": [],
   "source": [
    "for f in standings_files:\n",
    "    filepath = os.path.join(STANDINGS_DIR, f)\n",
    "    \n",
    "    await scrape_game(filepath)     "
   ]
  },
  {
   "cell_type": "code",
   "execution_count": null,
   "id": "ad9413b6-7d37-40e5-b15f-a4eaffabe75b",
   "metadata": {},
   "outputs": [],
   "source": []
  }
 ],
 "metadata": {
  "kernelspec": {
   "display_name": "Python 3 (ipykernel)",
   "language": "python",
   "name": "python3"
  },
  "language_info": {
   "codemirror_mode": {
    "name": "ipython",
    "version": 3
   },
   "file_extension": ".py",
   "mimetype": "text/x-python",
   "name": "python",
   "nbconvert_exporter": "python",
   "pygments_lexer": "ipython3",
   "version": "3.11.5"
  }
 },
 "nbformat": 4,
 "nbformat_minor": 5
}

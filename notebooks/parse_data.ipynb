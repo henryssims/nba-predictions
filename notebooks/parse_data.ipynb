{
 "cells": [
  {
   "cell_type": "code",
   "execution_count": 1,
   "id": "542b40fc-604c-44c0-90e6-5907afa6892a",
   "metadata": {
    "tags": []
   },
   "outputs": [],
   "source": [
    "import os\n",
    "import pandas as pd\n",
    "from bs4 import BeautifulSoup"
   ]
  },
  {
   "cell_type": "code",
   "execution_count": 2,
   "id": "d22d96c9-7bd3-4186-b731-81bdca34c61d",
   "metadata": {
    "tags": []
   },
   "outputs": [],
   "source": [
    "SCORE_DIR = 'data/scores'"
   ]
  },
  {
   "cell_type": "code",
   "execution_count": 3,
   "id": "b81e1445-dd64-434c-8c02-149ecf0f8258",
   "metadata": {
    "tags": []
   },
   "outputs": [],
   "source": [
    "box_scores = os.listdir(SCORE_DIR)"
   ]
  },
  {
   "cell_type": "code",
   "execution_count": 4,
   "id": "0953c317-520d-4579-881d-2f01df5694f5",
   "metadata": {},
   "outputs": [],
   "source": [
    "box_scores = [os.path.join(SCORE_DIR, f) for f in box_scores if f.endswith('.html')]"
   ]
  },
  {
   "cell_type": "code",
   "execution_count": 5,
   "id": "674545aa-f29f-4d52-8b54-ae737de3f490",
   "metadata": {},
   "outputs": [],
   "source": [
    "def parse_html(box_score):\n",
    "    with open(box_score) as f:\n",
    "        html = f.read()\n",
    "        \n",
    "    soup = BeautifulSoup(html)\n",
    "    [s.decompose() for s in soup.select('tr.over_header')]\n",
    "    [s.decompose() for s in soup.select('tr.thead')]\n",
    "    return soup"
   ]
  },
  {
   "cell_type": "code",
   "execution_count": 6,
   "id": "e4bc4e84-2b98-43ce-99b8-abc7562c1133",
   "metadata": {},
   "outputs": [],
   "source": [
    "def read_line_score(soup):\n",
    "    line_score = pd.read_html(str(soup), attrs={'id': 'line_score'})[0]\n",
    "    cols = list(line_score.columns)\n",
    "    cols[0] = 'team'\n",
    "    cols[-1] = 'total'\n",
    "    line_score.columns = cols\n",
    "    line_score = line_score[['team', 'total']]\n",
    "    return line_score"
   ]
  },
  {
   "cell_type": "code",
   "execution_count": 7,
   "id": "1936cef9-bd21-4f56-8a91-454151e0e8c6",
   "metadata": {},
   "outputs": [],
   "source": [
    "def read_stats(soup, team, stat):\n",
    "    df = pd.read_html(str(soup), attrs={'id': f'box-{team}-game-{stat}'}, index_col=0)[0]\n",
    "    df = df.apply(pd.to_numeric, errors='coerce')\n",
    "    return df"
   ]
  },
  {
   "cell_type": "code",
   "execution_count": 20,
   "id": "870a500c-bd6c-4a12-a2da-9efffcd09bb7",
   "metadata": {},
   "outputs": [],
   "source": [
    "def read_season_info(soup):\n",
    "    nav = soup.select('#bottom_nav_container')[0]\n",
    "    hrefs = [a['href'] for a in nav.find_all('a')]\n",
    "    season = os.path.basename(hrefs[1]).split('_')[0]\n",
    "    return season"
   ]
  },
  {
   "cell_type": "code",
   "execution_count": 21,
   "id": "f3d77e0c-42e7-4188-84c5-07faaf20fc6c",
   "metadata": {},
   "outputs": [
    {
     "name": "stdout",
     "output_type": "stream",
     "text": [
      "100 / 4635\n",
      "200 / 4635\n",
      "300 / 4635\n",
      "400 / 4635\n",
      "500 / 4635\n",
      "600 / 4635\n",
      "700 / 4635\n",
      "800 / 4635\n",
      "900 / 4635\n",
      "1000 / 4635\n",
      "1100 / 4635\n",
      "1200 / 4635\n",
      "1300 / 4635\n",
      "1400 / 4635\n",
      "1500 / 4635\n",
      "1600 / 4635\n",
      "1700 / 4635\n",
      "1800 / 4635\n",
      "1900 / 4635\n",
      "2000 / 4635\n",
      "2100 / 4635\n",
      "2200 / 4635\n",
      "2300 / 4635\n",
      "2400 / 4635\n",
      "2500 / 4635\n",
      "2600 / 4635\n",
      "2700 / 4635\n",
      "2800 / 4635\n",
      "2900 / 4635\n",
      "3000 / 4635\n",
      "3100 / 4635\n",
      "3200 / 4635\n",
      "3300 / 4635\n",
      "3400 / 4635\n",
      "3500 / 4635\n",
      "3600 / 4635\n",
      "3700 / 4635\n",
      "3800 / 4635\n",
      "3900 / 4635\n",
      "4000 / 4635\n",
      "4100 / 4635\n",
      "4200 / 4635\n",
      "4300 / 4635\n",
      "4400 / 4635\n",
      "4500 / 4635\n",
      "4600 / 4635\n"
     ]
    }
   ],
   "source": [
    "base_cols = None\n",
    "games = []\n",
    "\n",
    "for box_score in box_scores:\n",
    "    soup = parse_html(box_score)\n",
    "    line_score = read_line_score(soup)\n",
    "    teams = list(line_score['team'])\n",
    "\n",
    "    summaries = []\n",
    "    for team in teams:\n",
    "        basic = read_stats(soup, team, 'basic')\n",
    "        advanced = read_stats(soup, team, 'advanced')\n",
    "\n",
    "        total = pd.concat([basic.iloc[-1,:], advanced.iloc[-1,:]])\n",
    "        total.index = total.index.str.lower()\n",
    "\n",
    "        maxes = pd.concat([basic.iloc[:-1,:].max(), advanced.iloc[:-1,:].max()])\n",
    "        maxes.index = maxes.index.str.lower() + '_max'\n",
    "\n",
    "        summary = pd.concat([total, maxes])\n",
    "\n",
    "        if base_cols is None:\n",
    "            base_cols = list(summary.index.drop_duplicates(keep='first'))\n",
    "            base_cols = [b for b in base_cols if 'bpm' not in b]\n",
    "\n",
    "        summary = summary[base_cols]\n",
    "\n",
    "        summaries.append(summary)\n",
    "    summary = pd.concat(summaries, axis=1).T\n",
    "\n",
    "    game = pd.concat([summary, line_score], axis=1)\n",
    "\n",
    "    game['home'] = [0, 1]\n",
    "    game_opp = game.iloc[::-1].reset_index()\n",
    "    game_opp.columns += '_opp'\n",
    "\n",
    "    full_game = pd.concat([game, game_opp], axis=1)\n",
    "\n",
    "    full_game['season'] = read_season_info(soup)\n",
    "\n",
    "    full_game['date'] = os.path.basename(box_score)[:8]\n",
    "    full_game['date'] = pd.to_datetime(full_game['date'], format='%Y%m%d')\n",
    "\n",
    "    full_game['won'] = full_game['total'] > full_game['total_opp']\n",
    "    games.append(full_game)\n",
    "    \n",
    "    if len(games) % 100 == 0:\n",
    "        print(f'{len(games)} / {len(box_scores)}')"
   ]
  },
  {
   "cell_type": "code",
   "execution_count": 22,
   "id": "066d0f04-1053-440f-a889-7a8bdc22e8e0",
   "metadata": {},
   "outputs": [],
   "source": [
    "games_df = pd.concat(games, ignore_index=True)"
   ]
  },
  {
   "cell_type": "code",
   "execution_count": 23,
   "id": "1dd4b368-c4ca-42e2-91a9-9c702d54dbca",
   "metadata": {},
   "outputs": [],
   "source": [
    "games_df.to_csv('nba_games.csv')"
   ]
  },
  {
   "cell_type": "code",
   "execution_count": null,
   "id": "bd51d761-8f1a-45b2-9b28-26bb6f45ebd6",
   "metadata": {},
   "outputs": [],
   "source": []
  }
 ],
 "metadata": {
  "kernelspec": {
   "display_name": "Python 3 (ipykernel)",
   "language": "python",
   "name": "python3"
  },
  "language_info": {
   "codemirror_mode": {
    "name": "ipython",
    "version": 3
   },
   "file_extension": ".py",
   "mimetype": "text/x-python",
   "name": "python",
   "nbconvert_exporter": "python",
   "pygments_lexer": "ipython3",
   "version": "3.11.5"
  }
 },
 "nbformat": 4,
 "nbformat_minor": 5
}
